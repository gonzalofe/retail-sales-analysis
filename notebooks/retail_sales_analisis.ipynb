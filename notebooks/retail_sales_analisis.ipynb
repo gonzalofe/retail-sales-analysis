{
 "cells": [
  {
   "cell_type": "markdown",
   "metadata": {},
   "source": [
    "### Análisis y Predicción de Ventas en una Tienda de Retail (Core)\n"
   ]
  },
  {
   "cell_type": "markdown",
   "metadata": {},
   "source": [
    "Introducción al Proyecto\n",
    "\n",
    "En este proyecto de curso, desarrollaremos un análisis integral de un conjunto de datos de ventas de una tienda de retail. El objetivo es que los estudiantes apliquen lo aprendido en las diferentes secciones del curso, desde la manipulación básica de datos con NumPy, pasando por el análisis y visualización de datos con Pandas, hasta el uso de técnicas de machine learning para realizar predicciones. Este proyecto será una excelente adición al portafolio de los estudiantes y les permitirá demostrar su competencia en varias áreas clave de la ciencia de datos."
   ]
  },
  {
   "cell_type": "code",
   "execution_count": 2,
   "metadata": {},
   "outputs": [],
   "source": [
    "import numpy as np\n",
    "import pandas as pd\n",
    "import sys\n",
    "import os\n",
    "sys.path.append(os.path.abspath('../src'))\n",
    "import utils\n"
   ]
  },
  {
   "cell_type": "markdown",
   "metadata": {},
   "source": [
    "Realiza un preprocesamiento básico para asegurarte de que los datos estén limpios y listos para su análisis."
   ]
  },
  {
   "cell_type": "code",
   "execution_count": 9,
   "metadata": {},
   "outputs": [
    {
     "data": {
      "text/html": [
       "<div>\n",
       "<style scoped>\n",
       "    .dataframe tbody tr th:only-of-type {\n",
       "        vertical-align: middle;\n",
       "    }\n",
       "\n",
       "    .dataframe tbody tr th {\n",
       "        vertical-align: top;\n",
       "    }\n",
       "\n",
       "    .dataframe thead th {\n",
       "        text-align: right;\n",
       "    }\n",
       "</style>\n",
       "<table border=\"1\" class=\"dataframe\">\n",
       "  <thead>\n",
       "    <tr style=\"text-align: right;\">\n",
       "      <th></th>\n",
       "      <th>Transaction ID</th>\n",
       "      <th>Date</th>\n",
       "      <th>Customer ID</th>\n",
       "      <th>Gender</th>\n",
       "      <th>Age</th>\n",
       "      <th>Product Category</th>\n",
       "      <th>Quantity</th>\n",
       "      <th>Price per Unit</th>\n",
       "      <th>Total Amount</th>\n",
       "    </tr>\n",
       "  </thead>\n",
       "  <tbody>\n",
       "    <tr>\n",
       "      <th>0</th>\n",
       "      <td>1</td>\n",
       "      <td>2023-11-24</td>\n",
       "      <td>CUST001</td>\n",
       "      <td>Male</td>\n",
       "      <td>34</td>\n",
       "      <td>Beauty</td>\n",
       "      <td>3</td>\n",
       "      <td>50</td>\n",
       "      <td>150</td>\n",
       "    </tr>\n",
       "    <tr>\n",
       "      <th>1</th>\n",
       "      <td>2</td>\n",
       "      <td>2023-02-27</td>\n",
       "      <td>CUST002</td>\n",
       "      <td>Female</td>\n",
       "      <td>26</td>\n",
       "      <td>Clothing</td>\n",
       "      <td>2</td>\n",
       "      <td>500</td>\n",
       "      <td>1000</td>\n",
       "    </tr>\n",
       "    <tr>\n",
       "      <th>2</th>\n",
       "      <td>3</td>\n",
       "      <td>2023-01-13</td>\n",
       "      <td>CUST003</td>\n",
       "      <td>Male</td>\n",
       "      <td>50</td>\n",
       "      <td>Electronics</td>\n",
       "      <td>1</td>\n",
       "      <td>30</td>\n",
       "      <td>30</td>\n",
       "    </tr>\n",
       "    <tr>\n",
       "      <th>3</th>\n",
       "      <td>4</td>\n",
       "      <td>2023-05-21</td>\n",
       "      <td>CUST004</td>\n",
       "      <td>Male</td>\n",
       "      <td>37</td>\n",
       "      <td>Clothing</td>\n",
       "      <td>1</td>\n",
       "      <td>500</td>\n",
       "      <td>500</td>\n",
       "    </tr>\n",
       "    <tr>\n",
       "      <th>4</th>\n",
       "      <td>5</td>\n",
       "      <td>2023-05-06</td>\n",
       "      <td>CUST005</td>\n",
       "      <td>Male</td>\n",
       "      <td>30</td>\n",
       "      <td>Beauty</td>\n",
       "      <td>2</td>\n",
       "      <td>50</td>\n",
       "      <td>100</td>\n",
       "    </tr>\n",
       "  </tbody>\n",
       "</table>\n",
       "</div>"
      ],
      "text/plain": [
       "   Transaction ID        Date Customer ID  Gender  Age Product Category  \\\n",
       "0               1  2023-11-24     CUST001    Male   34           Beauty   \n",
       "1               2  2023-02-27     CUST002  Female   26         Clothing   \n",
       "2               3  2023-01-13     CUST003    Male   50      Electronics   \n",
       "3               4  2023-05-21     CUST004    Male   37         Clothing   \n",
       "4               5  2023-05-06     CUST005    Male   30           Beauty   \n",
       "\n",
       "   Quantity  Price per Unit  Total Amount  \n",
       "0         3              50           150  \n",
       "1         2             500          1000  \n",
       "2         1              30            30  \n",
       "3         1             500           500  \n",
       "4         2              50           100  "
      ]
     },
     "execution_count": 9,
     "metadata": {},
     "output_type": "execute_result"
    }
   ],
   "source": [
    "df = pd.read_csv(filepath_or_buffer=ruta_archivo, sep=',', header=0)\n",
    "df.head()"
   ]
  },
  {
   "cell_type": "code",
   "execution_count": 16,
   "metadata": {},
   "outputs": [
    {
     "data": {
      "text/plain": [
       "(Transaction ID      0\n",
       " Date                0\n",
       " Customer ID         0\n",
       " Gender              0\n",
       " Age                 0\n",
       " Product Category    0\n",
       " Quantity            0\n",
       " Price per Unit      0\n",
       " Total Amount        0\n",
       " dtype: int64,\n",
       " Transaction ID      0\n",
       " Date                0\n",
       " Customer ID         0\n",
       " Gender              0\n",
       " Age                 0\n",
       " Product Category    0\n",
       " Quantity            0\n",
       " Price per Unit      0\n",
       " Total Amount        0\n",
       " dtype: int64,\n",
       " 0,\n",
       " Transaction ID       int64\n",
       " Date                object\n",
       " Customer ID         object\n",
       " Gender              object\n",
       " Age                  int64\n",
       " Product Category    object\n",
       " Quantity             int64\n",
       " Price per Unit       int64\n",
       " Total Amount         int64\n",
       " dtype: object,\n",
       " Empty DataFrame\n",
       " Columns: [Transaction ID, Date, Customer ID, Gender, Age, Product Category, Quantity, Price per Unit, Total Amount]\n",
       " Index: [])"
      ]
     },
     "execution_count": 16,
     "metadata": {},
     "output_type": "execute_result"
    }
   ],
   "source": [
    "# 1. Verificar valores faltantes\n",
    "valores_nulos = df.isnull().sum()\n",
    "valores_na = df.isna().sum()\n",
    "# 2. Verificar datos duplicados\n",
    "duplicados = df.duplicated().sum()\n",
    "\n",
    "# 3. Verificar los tipos de datos\n",
    "data_types = df.dtypes\n",
    "\n",
    "# 4. Revisar si hay valores no lógicos (por ejemplo, edades negativas)\n",
    "edades_invalidas = df[df['Age'] < 0]\n",
    "\n",
    "valores_nulos, valores_na, duplicados, data_types, edades_invalidas"
   ]
  },
  {
   "cell_type": "markdown",
   "metadata": {},
   "source": [
    "No hay valores nulos. No hay duplicados. Los tipos de datos son correctos. Tampoco hay edades invalidas"
   ]
  },
  {
   "cell_type": "markdown",
   "metadata": {},
   "source": [
    "Ejecutar análsis"
   ]
  },
  {
   "cell_type": "code",
   "execution_count": 15,
   "metadata": {},
   "outputs": [
    {
     "data": {
      "text/plain": [
       "array(['Beauty', 'Clothing', 'Electronics'], dtype=object)"
      ]
     },
     "execution_count": 15,
     "metadata": {},
     "output_type": "execute_result"
    }
   ],
   "source": [
    "# Revisar categorias\n",
    "categorias_unicas = np.unique(df['Product Category'])\n",
    "categorias_unicas\n"
   ]
  },
  {
   "cell_type": "code",
   "execution_count": 12,
   "metadata": {},
   "outputs": [
    {
     "name": "stdout",
     "output_type": "stream",
     "text": [
      "\n",
      "Reporte de Ventas por Categoría de Producto\n",
      "\n",
      "---------------------------------------------\n",
      "1. Total de Ventas por Categoría de Producto:\n",
      "- Belleza: 143515\n",
      "- Ropa: 155580\n",
      "- Electrónica: 156905\n",
      "\n",
      "---------------------------------------------\n",
      "2. Promedio de Ventas Diarias por Categoría de Producto:\n",
      "- Belleza: 467.48\n",
      "- Ropa: 443.25\n",
      "- Electrónica: 458.79\n",
      "\n",
      "---------------------------------------------\n",
      "3. Categoría con Mayores Ventas:\n",
      "- Electronics\n",
      "\n",
      "4. Categoría con Menores Ventas:\n",
      "- Beauty\n",
      "\n"
     ]
    }
   ],
   "source": [
    "# Calcular el total de ventas por categoría de producto\n",
    "\n",
    "ventas_totales = np.array([df[df['Product Category'] == categoria]['Total Amount'].sum() for categoria in categorias_unicas])\n",
    "\n",
    "# 2. Calcular el promedio de ventas por categoría de producto\n",
    "promedio_ventas = np.array([df[df['Product Category'] == categoria]['Total Amount'].mean() for categoria in categorias_unicas])\n",
    "\n",
    "# 3. Identificar la categoría con mayores y menores ventas\n",
    "categoria_mayor_ventas = categorias_unicas[ventas_totales.argmax()]\n",
    "categoria_menor_ventas = categorias_unicas[ventas_totales.argmin()]\n",
    "\n",
    "# Mostrar los resultados\n",
    "# Generar un reporte en formato de string con los resultados\n",
    "\n",
    "reporte = f\"\"\"\n",
    "Reporte de Ventas por Categoría de Producto\n",
    "\n",
    "---------------------------------------------\n",
    "1. Total de Ventas por Categoría de Producto:\n",
    "- Belleza: {ventas_totales[0]}\n",
    "- Ropa: {ventas_totales[1]}\n",
    "- Electrónica: {ventas_totales[2]}\n",
    "\n",
    "---------------------------------------------\n",
    "2. Promedio de Ventas Diarias por Categoría de Producto:\n",
    "- Belleza: {promedio_ventas[0]:.2f}\n",
    "- Ropa: {promedio_ventas[1]:.2f}\n",
    "- Electrónica: {promedio_ventas[2]:.2f}\n",
    "\n",
    "---------------------------------------------\n",
    "3. Categoría con Mayores Ventas:\n",
    "- {categoria_mayor_ventas}\n",
    "\n",
    "4. Categoría con Menores Ventas:\n",
    "- {categoria_menor_ventas}\n",
    "\"\"\"\n",
    "\n",
    "# Mostrar el reporte en la consola\n",
    "print(reporte)\n",
    "\n"
   ]
  },
  {
   "cell_type": "markdown",
   "metadata": {},
   "source": [
    "Manipulación de Datos:\n",
    "Filtra los datos para mostrar solo las ventas de una categoría de producto específica."
   ]
  },
  {
   "cell_type": "code",
   "execution_count": 13,
   "metadata": {},
   "outputs": [
    {
     "name": "stdout",
     "output_type": "stream",
     "text": [
      "    Transaction ID        Date Customer ID  Gender  Age Product Category  \\\n",
      "2                3  2023-01-13     CUST003    Male   50      Electronics   \n",
      "7                8  2023-02-22     CUST008    Male   30      Electronics   \n",
      "8                9  2023-12-13     CUST009    Male   63      Electronics   \n",
      "12              13  2023-08-05     CUST013    Male   22      Electronics   \n",
      "14              15  2023-01-16     CUST015  Female   42      Electronics   \n",
      "\n",
      "    Quantity  Price per Unit  Total Amount  \n",
      "2          1              30            30  \n",
      "7          4              25           100  \n",
      "8          2             300           600  \n",
      "12         3             500          1500  \n",
      "14         4             500          2000  \n"
     ]
    }
   ],
   "source": [
    "# Filtrar las ventas de la categoría 'Electronics'\n",
    "ventas_electronica = df[df['Product Category'] == 'Electronics']\n",
    "print(ventas_electronica.head())"
   ]
  },
  {
   "cell_type": "markdown",
   "metadata": {},
   "source": [
    "Realiza operaciones de suma, resta, multiplicación y división en los datos para obtener estadísticas adicionales."
   ]
  },
  {
   "cell_type": "code",
   "execution_count": 14,
   "metadata": {},
   "outputs": [
    {
     "name": "stdout",
     "output_type": "stream",
     "text": [
      "Total de ventas de Electrónica: 156905\n",
      "Ventas de Electrónica menos 10: \n",
      "2       20\n",
      "7       90\n",
      "8      590\n",
      "12    1490\n",
      "14    1990\n",
      "Name: Total Amount, dtype: int64\n",
      "Multiplicación (Cantidad * Precio por Unidad): \n",
      "2       30\n",
      "7      100\n",
      "8      600\n",
      "12    1500\n",
      "14    2000\n",
      "dtype: int64\n",
      "División (Total / Cantidad para obtener el precio promedio): \n",
      "2      30.0\n",
      "7      25.0\n",
      "8     300.0\n",
      "12    500.0\n",
      "14    500.0\n",
      "dtype: float64\n"
     ]
    }
   ],
   "source": [
    "# 1. Suma: Total de ventas de productos de Electrónica\n",
    "total_ventas_electronica = ventas_electronica['Total Amount'].sum()\n",
    "\n",
    "# 2. Resta: Restar un valor de cada monto de venta\n",
    "resta_ventas_electronica = ventas_electronica['Total Amount'] - 10\n",
    "\n",
    "# 3. Multiplicación: Multiplicar la cantidad de productos vendidos por el precio por unidad\n",
    "multiplicacion_ventas_electronica = ventas_electronica['Quantity'] * ventas_electronica['Price per Unit']\n",
    "\n",
    "# 4. División: Dividir el monto total entre la cantidad vendida para obtener el precio promedio por producto\n",
    "division_ventas_electronica = ventas_electronica['Total Amount'] / ventas_electronica['Quantity']\n",
    "\n",
    "# Mostrar resultados de las operaciones\n",
    "print(f\"Total de ventas de Electrónica: {total_ventas_electronica}\")\n",
    "print(f\"Ventas de Electrónica menos 10: \\n{resta_ventas_electronica.head()}\")\n",
    "print(f\"Multiplicación (Cantidad * Precio por Unidad): \\n{multiplicacion_ventas_electronica.head()}\")\n",
    "print(f\"División (Total / Cantidad para obtener el precio promedio): \\n{division_ventas_electronica.head()}\")\n"
   ]
  }
 ],
 "metadata": {
  "kernelspec": {
   "display_name": "mitic-data-science-setiembre-2024",
   "language": "python",
   "name": "python3"
  },
  "language_info": {
   "codemirror_mode": {
    "name": "ipython",
    "version": 3
   },
   "file_extension": ".py",
   "mimetype": "text/x-python",
   "name": "python",
   "nbconvert_exporter": "python",
   "pygments_lexer": "ipython3",
   "version": "3.12.7"
  }
 },
 "nbformat": 4,
 "nbformat_minor": 2
}
